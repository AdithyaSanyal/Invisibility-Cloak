{
 "cells": [
  {
   "cell_type": "code",
   "execution_count": 15,
   "metadata": {},
   "outputs": [],
   "source": [
    "import cv2\n",
    "import time\n",
    "import numpy as np"
   ]
  },
  {
   "cell_type": "code",
   "execution_count": 16,
   "metadata": {},
   "outputs": [],
   "source": [
    "cap=cv2.VideoCapture(0)"
   ]
  },
  {
   "cell_type": "code",
   "execution_count": 17,
   "metadata": {},
   "outputs": [],
   "source": [
    "# Storing frame as background\n",
    "_, background = cap.read()\n",
    "time.sleep(2)\n",
    "_, background = cap.read()"
   ]
  },
  {
   "cell_type": "code",
   "execution_count": 18,
   "metadata": {},
   "outputs": [],
   "source": [
    "# defining all the kernels size  \n",
    "open_kernel = np.ones((5,5),np.uint8)\n",
    "close_kernel = np.ones((7,7),np.uint8)\n",
    "dilation_kernel = np.ones((10, 10), np.uint8)"
   ]
  },
  {
   "cell_type": "code",
   "execution_count": 19,
   "metadata": {},
   "outputs": [],
   "source": [
    "# To remove noise from the mask\n",
    "# MORPH_CLOSE removes black noises from white region\n",
    "# MORPH_OPEN removes white noises from black region\n",
    "# dilate increases white region in the image\n",
    "def filter_mask(mask):\n",
    "    close_mask = cv2.morphologyEx(mask, cv2.MORPH_CLOSE, close_kernel)\n",
    "    open_mask = cv2.morphologyEx(close_mask, cv2.MORPH_OPEN, open_kernel)\n",
    "\n",
    "    dilation = cv2.dilate(open_mask, dilation_kernel, iterations= 1)\n",
    "    return dilation"
   ]
  },
  {
   "cell_type": "code",
   "execution_count": null,
   "metadata": {},
   "outputs": [],
   "source": [
    "while cap.isOpened():\n",
    "    # Capture every frame\n",
    "    ret, frame = cap.read()\n",
    "    \n",
    "    # convert from BGR(Blue Green Red) to HSV(Hue Saturation Value) colorspace \n",
    "    hsv = cv2.cvtColor(frame, cv2.COLOR_BGR2HSV)\n",
    "\n",
    "    # lower bound and upper bound for Red color \n",
    "    lower_bound = np.array([105, 40, 40])     \n",
    "    upper_bound = np.array([135, 255, 255])\n",
    "    \n",
    "\n",
    "    # inRange returns mask where red color is present\n",
    "    mask = cv2.inRange(hsv, lower_bound, upper_bound)\n",
    "\n",
    "    # Remove noise from maskcv\n",
    "    mask = filter_mask(mask)\n",
    "\n",
    "    # Apply the mask to take only those region from the saved background \n",
    "    # where our cloak is present in the current frame\n",
    "    cloak = cv2.bitwise_and(background, background, mask=mask)\n",
    "\n",
    "    # create inverse mask \n",
    "    inverse_mask = cv2.bitwise_not(mask)  \n",
    "\n",
    "    # Apply the inverse mask to take those region of the current frame where cloak is not present \n",
    "    current_background = cv2.bitwise_and(frame, frame, mask=inverse_mask)\n",
    "\n",
    "    # Combine cloak region and current_background region to get final frame \n",
    "    combined = cv2.add(cloak, current_background)\n",
    "\n",
    "    cv2.imshow(\"Final output\", combined)\n",
    "\n",
    "\n",
    "    if cv2.waitKey(1) == ord('q'):\n",
    "        break\n",
    "    \n",
    "cap.release()\n",
    "cv2.destroyAllWindows()"
   ]
  },
  {
   "cell_type": "code",
   "execution_count": null,
   "metadata": {},
   "outputs": [],
   "source": []
  }
 ],
 "metadata": {
  "kernelspec": {
   "display_name": "Python 3",
   "language": "python",
   "name": "python3"
  },
  "language_info": {
   "codemirror_mode": {
    "name": "ipython",
    "version": 3
   },
   "file_extension": ".py",
   "mimetype": "text/x-python",
   "name": "python",
   "nbconvert_exporter": "python",
   "pygments_lexer": "ipython3",
   "version": "3.8.5"
  }
 },
 "nbformat": 4,
 "nbformat_minor": 4
}
